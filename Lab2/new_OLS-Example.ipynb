{
 "cells": [
  {
   "cell_type": "markdown",
   "metadata": {},
   "source": [
    "*This notebook contains an excerpt from the [Python Data Science Handbook](http://shop.oreilly.com/product/0636920034919.do) by Jake VanderPlas; the content is available [on GitHub](https://github.com/jakevdp/PythonDataScienceHandbook).*\n",
    "\n",
    "*The text is released under the [CC-BY-NC-ND license](https://creativecommons.org/licenses/by-nc-nd/3.0/us/legalcode), and code is released under the [MIT license](https://opensource.org/licenses/MIT). If you find this content useful, please consider supporting the work by [buying the book](http://shop.oreilly.com/product/0636920034919.do)!*"
   ]
  },
  {
   "cell_type": "markdown",
   "metadata": {},
   "source": [
    "# In Depth: Linear Regression"
   ]
  },
  {
   "cell_type": "markdown",
   "metadata": {},
   "source": [
    "Just as naive Bayes (discussed earlier in [In Depth: Naive Bayes Classification](05.05-Naive-Bayes.ipynb)) is a good starting point for classification tasks, linear regression models are a good starting point for regression tasks.\n",
    "Such models are popular because they can be fit very quickly, and are very interpretable.\n",
    "You are probably familiar with the simplest form of a linear regression model (i.e., fitting a straight line to data) but such models can be extended to model more complicated data behavior.\n",
    "\n",
    "In this section we will start with a quick intuitive walk-through of the mathematics behind this well-known problem, before seeing how before moving on to see how linear models can be generalized to account for more complicated patterns in data.\n",
    "\n",
    "We begin with the standard imports:"
   ]
  },
  {
   "cell_type": "code",
   "execution_count": 1,
   "metadata": {},
   "outputs": [],
   "source": [
    "%matplotlib inline\n",
    "import matplotlib.pyplot as plt\n",
    "import numpy as np\n",
    "import scipy as sp"
   ]
  },
  {
   "cell_type": "markdown",
   "metadata": {},
   "source": [
    "## Simple Linear Regression\n",
    "\n",
    "We will start with the most familiar linear regression, a straight-line fit to data.\n",
    "A straight-line fit is a model of the form\n",
    "$$\n",
    "y = ax + b\n",
    "$$\n",
    "where $a$ is commonly known as the *slope*, and $b$ is commonly known as the *intercept*.\n",
    "\n",
    "Consider the following data, which is scattered about a line with a slope of 2 and an intercept of -5:"
   ]
  },
  {
   "cell_type": "code",
   "execution_count": 2,
   "metadata": {},
   "outputs": [
    {
     "data": {
      "image/png": "[encoded data removed]",
      "text/plain": [
       "<Figure size 432x288 with 1 Axes>"
      ]
     },
     "metadata": {
      "needs_background": "light"
     },
     "output_type": "display_data"
    }
   ],
   "source": [
    "rng = np.random.RandomState(1)\n",
    "x = 10 * rng.rand(50)\n",
    "y = 2 * x - 5 + rng.randn(50)\n",
    "plt.scatter(x, y);"
   ]
  },
  {
   "cell_type": "markdown",
   "metadata": {},
   "source": [
    "We can use Scikit-Learn's ``LinearRegression`` estimator to fit this data and construct the best-fit line:"
   ]
  },
  {
   "cell_type": "code",
   "execution_count": 3,
   "metadata": {},
   "outputs": [
    {
     "data": {
      "image/png": "[encoded data removed]",
      "text/plain": [
       "<Figure size 432x288 with 1 Axes>"
      ]
     },
     "metadata": {
      "needs_background": "light"
     },
     "output_type": "display_data"
    }
   ],
   "source": [
    "from sklearn.linear_model import LinearRegression\n",
    "model = LinearRegression(fit_intercept=True)\n",
    "\n",
    "model.fit(x[:, np.newaxis], y)\n",
    "\n",
    "xfit = np.linspace(0, 10, 1000)\n",
    "yfit = model.predict(xfit[:, np.newaxis])\n",
    "\n",
    "plt.scatter(x, y)\n",
    "plt.plot(xfit, yfit);"
   ]
  },
  {
   "cell_type": "markdown",
   "metadata": {},
   "source": [
    "The slope and intercept of the data are contained in the model's fit parameters, which in Scikit-Learn are always marked by a trailing underscore.\n",
    "Here the relevant parameters are ``coef_`` and ``intercept_``:"
   ]
  },
  {
   "cell_type": "code",
   "execution_count": 4,
   "metadata": {},
   "outputs": [
    {
     "name": "stdout",
     "output_type": "stream",
     "text": [
      "Model slope:     2.027208810360695\n",
      "Model intercept: -4.998577085553202\n"
     ]
    }
   ],
   "source": [
    "print(\"Model slope:    \", model.coef_[0])\n",
    "print(\"Model intercept:\", model.intercept_)"
   ]
  },
  {
   "cell_type": "markdown",
   "metadata": {},
   "source": [
    "We see that the results are very close to the inputs, as we might hope."
   ]
  },
  {
   "cell_type": "markdown",
   "metadata": {},
   "source": [
    "The ``LinearRegression`` estimator is much more capable than this, however—in addition to simple straight-line fits, it can also handle multidimensional linear models of the form\n",
    "$$\n",
    "y = a_0 + a_1 x_1 + a_2 x_2 + \\cdots\n",
    "$$\n",
    "where there are multiple $x$ values.\n",
    "Geometrically, this is akin to fitting a plane to points in three dimensions, or fitting a hyper-plane to points in higher dimensions.\n",
    "\n",
    "The multidimensional nature of such regressions makes them more difficult to visualize, but we can see one of these fits in action by building some example data, using NumPy's matrix multiplication operator:"
   ]
  },
  {
   "cell_type": "code",
   "execution_count": 5,
   "metadata": {},
   "outputs": [
    {
     "name": "stdout",
     "output_type": "stream",
     "text": [
      "0.5000000000000109\n",
      "[ 1.5 -2.   1. ]\n"
     ]
    }
   ],
   "source": [
    "rng = np.random.RandomState(1)\n",
    "X = 10 * rng.rand(100, 3)\n",
    "y = 0.5 + np.dot(X, [1.5, -2., 1.])\n",
    "\n",
    "model.fit(X, y)\n",
    "print(model.intercept_)\n",
    "print(model.coef_)"
   ]
  },
  {
   "cell_type": "markdown",
   "metadata": {},
   "source": [
    "Here the $y$ data is constructed from three random $x$ values, and the linear regression recovers the coefficients used to construct the data.\n",
    "\n",
    "In this way, we can use the single ``LinearRegression`` estimator to fit lines, planes, or hyperplanes to our data.\n",
    "It still appears that this approach would be limited to strictly linear relationships between variables, but we will relax this as well."
   ]
  },
  {
   "cell_type": "code",
   "execution_count": 6,
   "metadata": {},
   "outputs": [
    {
     "name": "stderr",
     "output_type": "stream",
     "text": [
      "<ipython-input-6-a6b0ac7bc915>:1: FutureWarning: `rcond` parameter will change to the default of machine precision times ``max(M, N)`` where M and N are the input matrix dimensions.\n",
      "To use the future default and silence this warning we advise to pass `rcond=None`, to keep using the old, explicitly pass `rcond=-1`.\n",
      "  answer, residuals, rank, ss = np.linalg.lstsq(X,y)\n"
     ]
    },
    {
     "data": {
      "text/plain": [
       "array([ 1.52587196, -1.97000441,  1.03220321])"
      ]
     },
     "execution_count": 6,
     "metadata": {},
     "output_type": "execute_result"
    }
   ],
   "source": [
    "answer, residuals, rank, ss = np.linalg.lstsq(X,y)\n",
    "answer"
   ]
  },
  {
   "cell_type": "code",
   "execution_count": 7,
   "metadata": {},
   "outputs": [
    {
     "data": {
      "text/plain": [
       "array([ 1.52587196, -1.97000441,  1.03220321])"
      ]
     },
     "execution_count": 7,
     "metadata": {},
     "output_type": "execute_result"
    }
   ],
   "source": [
    "#similar with np (can see same method as lecture, matrix mult) \n",
    "#rather than sk learn\n",
    "np.linalg.inv(X.T @ X) @ np.matmul(X.T,y)"
   ]
  },
  {
   "cell_type": "markdown",
   "metadata": {},
   "source": [
    "# Non-linear Regression\n",
    "not in sklearn but in scipy"
   ]
  },
  {
   "cell_type": "code",
   "execution_count": 8,
   "metadata": {},
   "outputs": [
    {
     "data": {
      "image/png": "[encoded data removed]",
      "text/plain": [
       "<Figure size 432x288 with 1 Axes>"
      ]
     },
     "metadata": {
      "needs_background": "light"
     },
     "output_type": "display_data"
    }
   ],
   "source": [
    "X = np.logspace(-3, 2)\n",
    "Y = 1.0 * X / (1.0 + 0.4 * X) + 0.1 * rng.randn(*X.shape)\n",
    "\n",
    "plt.semilogx(X, Y,'.');\n",
    "plt.xlabel('Concentration [nM]')\n",
    "plt.ylabel('Binding');\n",
    "#e.g. from curve can calc Kd for binding process"
   ]
  },
  {
   "cell_type": "code",
   "execution_count": 9,
   "metadata": {},
   "outputs": [],
   "source": [
    "#input xx=binding and conc (two variables min to max), lig=vector of concentrations\n",
    "# NLLS u must know vague curve shape (bioEs know protein binding michaelis menten is log)\n",
    "def klotz1(xx, lig):\n",
    "    \"\"\" A function defining our binding curve. \"\"\"\n",
    "    return (xx[1]*lig)/(1 + xx[0]*lig)\n",
    "\n",
    "def ls_obj_k1(xx, ligs, data):\n",
    "    \"\"\" A function that returns the residuals between our prediction and the data. \"\"\"\n",
    "    return(data - klotz1(xx,ligs))\n",
    "#doesnt return prediction, but the error (diff/residuals btwn pred and data)"
   ]
  },
  {
   "cell_type": "code",
   "execution_count": 10,
   "metadata": {},
   "outputs": [
    {
     "data": {
      "image/png": "[encoded data removed]",
      "text/plain": [
       "<Figure size 432x288 with 1 Axes>"
      ]
     },
     "metadata": {
      "needs_background": "light"
     },
     "output_type": "display_data"
    }
   ],
   "source": [
    "# x0 is starting point. chose [1. 1.] but arbitrary for simple problem\n",
    "x0 = np.ones(2)\n",
    "plt.semilogx(X, Y,'.');\n",
    "plt.semilogx(X,klotz1(x0,X),'r-')\n",
    "plt.xlabel('Concentration [nM]')\n",
    "plt.ylabel('Binding');"
   ]
  },
  {
   "cell_type": "code",
   "execution_count": 16,
   "metadata": {},
   "outputs": [
    {
     "data": {
      "text/plain": [
       " active_mask: array([0., 0.])\n",
       "        cost: 0.2682973267102191\n",
       "         fun: array([ 0.02424818,  0.02015929,  0.06607202,  0.17917787, -0.01209444,\n",
       "       -0.12337274, -0.11830851, -0.0666724 , -0.16754211,  0.08234816,\n",
       "       -0.05001693, -0.03134547, -0.00050088, -0.14005531, -0.08662743,\n",
       "        0.06684665,  0.06106814, -0.04530454,  0.17981496, -0.13212301,\n",
       "       -0.0364342 , -0.02549243, -0.28229348,  0.19007154,  0.03212011,\n",
       "       -0.10995212,  0.19848799,  0.05064506,  0.03359586, -0.07161059,\n",
       "       -0.00192119, -0.16677103,  0.06367229, -0.05481049, -0.00535691,\n",
       "        0.10022523,  0.00746939,  0.00440858,  0.00515641, -0.09632243,\n",
       "        0.06022978,  0.13068936,  0.052034  ,  0.06450057, -0.11182131,\n",
       "       -0.11094542, -0.168307  ,  0.09896796, -0.04970287,  0.11567939])\n",
       "        grad: array([8.84277466e-08, 2.91160182e-09])\n",
       "         jac: array([[ 1.01793557e-06, -9.99596558e-04],\n",
       "       [ 1.62818469e-06, -1.26420993e-03],\n",
       "       [ 2.60397792e-06, -1.59882702e-03],\n",
       "       [ 4.16487455e-06, -2.02193874e-03],\n",
       "       [ 6.66058622e-06, -2.55690663e-03],\n",
       "       [ 1.06506050e-05, -3.23323308e-03],\n",
       "       [ 1.70264393e-05, -4.08815931e-03],\n",
       "       [ 2.72160396e-05, -5.16867052e-03],\n",
       "       [ 4.34946269e-05, -6.53400966e-03],\n",
       "       [ 6.94887713e-05, -8.25880860e-03],\n",
       "       [ 1.10976398e-04, -1.04369834e-02],\n",
       "       [ 1.77150592e-04, -1.31865619e-02],\n",
       "       [ 2.82618217e-04, -1.66556158e-02],\n",
       "       [ 4.50544059e-04, -2.10295035e-02],\n",
       "       [ 7.17576593e-04, -2.65396203e-02],\n",
       "       [ 1.14153512e-03, -3.34738182e-02],\n",
       "       [ 1.81329576e-03, -4.21885833e-02],\n",
       "       [ 2.87502818e-03, -5.31228916e-02],\n",
       "       [ 4.54784557e-03, -6.68133795e-02],\n",
       "       [ 7.17308745e-03, -8.39099989e-02],\n",
       "       [ 1.12728085e-02, -1.05190536e-01],\n",
       "       [ 1.76360793e-02, -1.31571441e-01],\n",
       "       [ 2.74380520e-02, -1.64110834e-01],\n",
       "       [ 4.23965454e-02, -2.03997969e-01],\n",
       "       [ 6.49644621e-02, -2.52521607e-01],\n",
       "       [ 9.85424705e-02, -3.11008563e-01],\n",
       "       [ 1.47672523e-01, -3.80724179e-01],\n",
       "       [ 2.18139365e-01, -4.62729986e-01],\n",
       "       [ 3.16871457e-01, -5.57701958e-01],\n",
       "       [ 4.51513395e-01, -6.65726634e-01],\n",
       "       [ 6.29570350e-01, -7.86108952e-01],\n",
       "       [ 8.57128419e-01, -9.17241215e-01],\n",
       "       [ 1.13733527e+00, -1.05658604e+00],\n",
       "       [ 1.46902190e+00, -1.20081127e+00],\n",
       "       [ 1.84594652e+00, -1.34607784e+00],\n",
       "       [ 2.25703689e+00, -1.48843526e+00],\n",
       "       [ 2.68769485e+00, -1.62424146e+00],\n",
       "       [ 3.12184128e+00, -1.75051577e+00],\n",
       "       [ 3.54412724e+00, -1.86515646e+00],\n",
       "       [ 3.94173837e+00, -1.96700070e+00],\n",
       "       [ 4.30544534e+00, -2.05574695e+00],\n",
       "       [ 4.62984917e+00, -2.13178812e+00],\n",
       "       [ 4.91300002e+00, -2.19600842e+00],\n",
       "       [ 5.15566039e+00, -2.24958689e+00],\n",
       "       [ 5.36046463e+00, -2.29383320e+00],\n",
       "       [ 5.53114709e+00, -2.33006601e+00],\n",
       "       [ 5.67192668e+00, -2.35953227e+00],\n",
       "       [ 5.78706712e+00, -2.38336129e+00],\n",
       "       [ 5.88059768e+00, -2.40254405e+00],\n",
       "       [ 5.95615768e+00, -2.41792996e+00]])\n",
       "     message: '`ftol` termination condition is satisfied.'\n",
       "        nfev: 9\n",
       "        njev: 7\n",
       "  optimality: 8.842774656958596e-08\n",
       "      status: 2\n",
       "     success: True\n",
       "           x: array([0.40357691, 1.01877617])"
      ]
     },
     "execution_count": 16,
     "metadata": {},
     "output_type": "execute_result"
    }
   ],
   "source": [
    "# least squares calls  X, Y in args which come from \"data\" above \n",
    "res = sp.optimize.least_squares(ls_obj_k1, x0, args=(X,Y))\n",
    "assert res.success\n",
    "res"
   ]
  },
  {
   "cell_type": "code",
   "execution_count": 18,
   "metadata": {},
   "outputs": [
    {
     "name": "stdout",
     "output_type": "stream",
     "text": [
      "[1.00000000e-03 1.26485522e-03 1.59985872e-03 2.02358965e-03\n",
      " 2.55954792e-03 3.23745754e-03 4.09491506e-03 5.17947468e-03\n",
      " 6.55128557e-03 8.28642773e-03 1.04811313e-02 1.32571137e-02\n",
      " 1.67683294e-02 2.12095089e-02 2.68269580e-02 3.39322177e-02\n",
      " 4.29193426e-02 5.42867544e-02 6.86648845e-02 8.68511374e-02\n",
      " 1.09854114e-01 1.38949549e-01 1.75751062e-01 2.22299648e-01\n",
      " 2.81176870e-01 3.55648031e-01 4.49843267e-01 5.68986603e-01\n",
      " 7.19685673e-01 9.10298178e-01 1.15139540e+00 1.45634848e+00\n",
      " 1.84206997e+00 2.32995181e+00 2.94705170e+00 3.72759372e+00\n",
      " 4.71486636e+00 5.96362332e+00 7.54312006e+00 9.54095476e+00\n",
      " 1.20679264e+01 1.52641797e+01 1.93069773e+01 2.44205309e+01\n",
      " 3.08884360e+01 3.90693994e+01 4.94171336e+01 6.25055193e+01\n",
      " 7.90604321e+01 1.00000000e+02]\n",
      "[0.40357691 1.01877617]\n"
     ]
    },
    {
     "data": {
      "image/png": "[encoded data removed]",
      "text/plain": [
       "<Figure size 432x288 with 1 Axes>"
      ]
     },
     "metadata": {
      "needs_background": "light"
     },
     "output_type": "display_data"
    }
   ],
   "source": [
    "# from above resolut  x: array([0.40357691, 1.01877617])\n",
    "print(X)\n",
    "print(res.x)\n",
    "plt.semilogx(X, Y,'.');\n",
    "plt.semilogx(X,klotz1(res.x,X),'r-')\n",
    "plt.xlabel('Concentration [nM]')\n",
    "plt.ylabel('Binding');\n",
    "# fits!"
   ]
  },
  {
   "cell_type": "code",
   "execution_count": null,
   "metadata": {},
   "outputs": [],
   "source": []
  }
 ],
 "metadata": {
  "anaconda-cloud": {},
  "kernelspec": {
   "display_name": "Python 3",
   "language": "python",
   "name": "python3"
  },
  "language_info": {
   "codemirror_mode": {
    "name": "ipython",
    "version": 3
   },
   "file_extension": ".py",
   "mimetype": "text/x-python",
   "name": "python",
   "nbconvert_exporter": "python",
   "pygments_lexer": "ipython3",
   "version": "3.8.5"
  }
 },
 "nbformat": 4,
 "nbformat_minor": 1
}
