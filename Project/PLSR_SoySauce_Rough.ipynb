{
 "cells": [
  {
   "cell_type": "code",
   "execution_count": 1,
   "metadata": {},
   "outputs": [],
   "source": [
    "import math\n",
    "from sklearn.utils import resample\n",
    "import scipy as sp, numpy as np\n",
    "import scipy.io as io\n",
    "import pandas as pd\n",
    "from sklearn.preprocessing import scale, StandardScaler\n",
    "from sklearn.cross_decomposition import PLSRegression\n",
    "from sklearn.model_selection import LeaveOneGroupOut, LeaveOneOut\n",
    "import matplotlib.pyplot as plt\n",
    "%matplotlib inline"
   ]
  },
  {
   "cell_type": "code",
   "execution_count": 86,
   "metadata": {},
   "outputs": [],
   "source": [
    "#Reading Table S4 from paper into Y (18 week 12 groups).\n",
    "s4=pd.read_csv(\"full data.csv\", names = ['Control1','Control2', 'Control3','LAB + EtOH1','LAB + EtOH2','LAB + EtOH3','Acid + Yeast1','Acid + Yeast2','Acid + Yeast3','Acid + EtOH1','Acid + EtOH2','Acid + EtOH3'])\n",
    "#Reading Table S1SS2S3 into X (0 week mean 1 group)\n",
    "s123=pd.read_csv(\"s1s2s3X.csv\", names = ['Week0Mean','SD','SourceTable'])"
   ]
  },
  {
   "cell_type": "code",
   "execution_count": 165,
   "metadata": {},
   "outputs": [],
   "source": [
    "#Y= array shape (131, 12)\n",
    "Y=s4.to_numpy()\n",
    "Xmean=s123.iloc[:,0].to_numpy()\n",
    "Xsd=s123.iloc[:,1].to_numpy()\n",
    "#create 3 week0 samples from the mean and sd, assume normal dist\n",
    "np.random.seed(1)\n",
    "X=np.empty([Xmean.size,3])\n",
    "for i in range (Xmean.size):\n",
    "    X[i]=np.random.normal(Xmean[i],Xsd[i], 3)\n",
    "#replace nan (constituents not found in week0 with tiny value to prevent PLSR ValueError: Input contains NaN)\n",
    "X=np.nan_to_num(X, nan=1e-99)\n",
    "# X array shape 131,3"
   ]
  },
  {
   "cell_type": "code",
   "execution_count": 160,
   "metadata": {},
   "outputs": [
    {
     "data": {
      "text/plain": [
       "0.1854"
      ]
     },
     "execution_count": 160,
     "metadata": {},
     "output_type": "execute_result"
    }
   ],
   "source": [
    "#separate Y into each exp grouping, transpose so rows are test groups/cols are variable constituents\n",
    "YControl=s4.iloc[:,0:3].T.to_numpy()\n",
    "YLabEtoh=s4.iloc[:,3:6].T.to_numpy()\n",
    "YAcidYeast=s4.iloc[:,6:9].T.to_numpy()\n",
    "YAcidEtoh=s4.iloc[:,-3:len(s4.columns)].T.to_numpy()\n",
    "Y=np.append([YControl, YLabEtoh,YAcidYeast],[YAcidEtoh], axis=0)\n",
    "Y[0]\n",
    "#Y[0][0] is exp grp 1 of YControl, 131 constit for 1 grp"
   ]
  },
  {
   "cell_type": "code",
   "execution_count": 163,
   "metadata": {},
   "outputs": [
    {
     "data": {
      "text/plain": [
       "(3, 131)"
      ]
     },
     "execution_count": 163,
     "metadata": {},
     "output_type": "execute_result"
    }
   ],
   "source": [
    "Xmean=s123.iloc[:,0].to_numpy()\n",
    "Xsd=s123.iloc[:,1].to_numpy()\n",
    "#create 3 week0 samples from the mean and sd, assume normal dist\n",
    "np.random.seed(1)\n",
    "X=np.empty([Xmean.size,3])\n",
    "for i in range (Xmean.size):\n",
    "    X[i]=np.random.normal(Xmean[i],Xsd[i], 3)\n",
    "#replace nan (constituents not found in week0 with tiny value to prevent PLSR ValueError: Input contains NaN)\n",
    "X=np.nan_to_num(X, nan=1e-99).T\n",
    "X.shape"
   ]
  },
  {
   "cell_type": "code",
   "execution_count": 159,
   "metadata": {},
   "outputs": [],
   "source": [
    "scoresXY=PLSR2.fit_transform(X,YControl)"
   ]
  },
  {
   "cell_type": "code",
   "execution_count": 143,
   "metadata": {},
   "outputs": [
    {
     "data": {
      "text/plain": [
       "array([-5.31871037,  1.82659935,  3.49211102])"
      ]
     },
     "execution_count": 143,
     "metadata": {},
     "output_type": "execute_result"
    }
   ],
   "source": [
    "scoresXY[1][:,1]"
   ]
  },
  {
   "cell_type": "code",
   "execution_count": 153,
   "metadata": {},
   "outputs": [
    {
     "ename": "ValueError",
     "evalue": "Found input variables with inconsistent numbers of samples: [131, 3]",
     "output_type": "error",
     "traceback": [
      "\u001b[0;31m---------------------------------------------------------------------------\u001b[0m",
      "\u001b[0;31mValueError\u001b[0m                                Traceback (most recent call last)",
      "\u001b[0;32m<ipython-input-153-72f94eef73d7>\u001b[0m in \u001b[0;36m<module>\u001b[0;34m\u001b[0m\n\u001b[1;32m      2\u001b[0m \u001b[0mnumPC\u001b[0m\u001b[0;34m=\u001b[0m\u001b[0;36m2\u001b[0m\u001b[0;34m\u001b[0m\u001b[0;34m\u001b[0m\u001b[0m\n\u001b[1;32m      3\u001b[0m \u001b[0mPLSR2\u001b[0m \u001b[0;34m=\u001b[0m \u001b[0mPLSRegression\u001b[0m\u001b[0;34m(\u001b[0m\u001b[0mn_components\u001b[0m\u001b[0;34m=\u001b[0m\u001b[0mnumPC\u001b[0m\u001b[0;34m)\u001b[0m\u001b[0;34m\u001b[0m\u001b[0;34m\u001b[0m\u001b[0m\n\u001b[0;32m----> 4\u001b[0;31m \u001b[0mscoresXY\u001b[0m\u001b[0;34m=\u001b[0m\u001b[0mPLSR2\u001b[0m\u001b[0;34m.\u001b[0m\u001b[0mfit_transform\u001b[0m\u001b[0;34m(\u001b[0m\u001b[0mX\u001b[0m\u001b[0;34m,\u001b[0m\u001b[0mYControl\u001b[0m\u001b[0;34m)\u001b[0m\u001b[0;34m\u001b[0m\u001b[0;34m\u001b[0m\u001b[0m\n\u001b[0m\u001b[1;32m      5\u001b[0m \u001b[0mr2y\u001b[0m\u001b[0;34m=\u001b[0m\u001b[0mPLSR2\u001b[0m\u001b[0;34m.\u001b[0m\u001b[0mscore\u001b[0m\u001b[0;34m(\u001b[0m\u001b[0mX\u001b[0m\u001b[0;34m,\u001b[0m \u001b[0mYControl\u001b[0m\u001b[0;34m)\u001b[0m\u001b[0;34m\u001b[0m\u001b[0;34m\u001b[0m\u001b[0m\n\u001b[1;32m      6\u001b[0m \u001b[0mprint\u001b[0m\u001b[0;34m(\u001b[0m\u001b[0;34m'r2y: '\u001b[0m\u001b[0;34m,\u001b[0m\u001b[0mr2y\u001b[0m\u001b[0;34m,\u001b[0m\u001b[0;34m' for YControl'\u001b[0m\u001b[0;34m)\u001b[0m\u001b[0;34m\u001b[0m\u001b[0;34m\u001b[0m\u001b[0m\n",
      "\u001b[0;32m~/anaconda3/lib/python3.8/site-packages/sklearn/cross_decomposition/_pls.py\u001b[0m in \u001b[0;36mfit_transform\u001b[0;34m(self, X, y)\u001b[0m\n\u001b[1;32m    517\u001b[0m         \u001b[0mx_scores\u001b[0m \u001b[0;32mif\u001b[0m \u001b[0mY\u001b[0m \u001b[0;32mis\u001b[0m \u001b[0;32mnot\u001b[0m \u001b[0mgiven\u001b[0m\u001b[0;34m,\u001b[0m \u001b[0;34m(\u001b[0m\u001b[0mx_scores\u001b[0m\u001b[0;34m,\u001b[0m \u001b[0my_scores\u001b[0m\u001b[0;34m)\u001b[0m \u001b[0motherwise\u001b[0m\u001b[0;34m.\u001b[0m\u001b[0;34m\u001b[0m\u001b[0;34m\u001b[0m\u001b[0m\n\u001b[1;32m    518\u001b[0m         \"\"\"\n\u001b[0;32m--> 519\u001b[0;31m         \u001b[0;32mreturn\u001b[0m \u001b[0mself\u001b[0m\u001b[0;34m.\u001b[0m\u001b[0mfit\u001b[0m\u001b[0;34m(\u001b[0m\u001b[0mX\u001b[0m\u001b[0;34m,\u001b[0m \u001b[0my\u001b[0m\u001b[0;34m)\u001b[0m\u001b[0;34m.\u001b[0m\u001b[0mtransform\u001b[0m\u001b[0;34m(\u001b[0m\u001b[0mX\u001b[0m\u001b[0;34m,\u001b[0m \u001b[0my\u001b[0m\u001b[0;34m)\u001b[0m\u001b[0;34m\u001b[0m\u001b[0;34m\u001b[0m\u001b[0m\n\u001b[0m\u001b[1;32m    520\u001b[0m \u001b[0;34m\u001b[0m\u001b[0m\n\u001b[1;32m    521\u001b[0m     \u001b[0;32mdef\u001b[0m \u001b[0m_more_tags\u001b[0m\u001b[0;34m(\u001b[0m\u001b[0mself\u001b[0m\u001b[0;34m)\u001b[0m\u001b[0;34m:\u001b[0m\u001b[0;34m\u001b[0m\u001b[0;34m\u001b[0m\u001b[0m\n",
      "\u001b[0;32m~/anaconda3/lib/python3.8/site-packages/sklearn/cross_decomposition/_pls.py\u001b[0m in \u001b[0;36mfit\u001b[0;34m(self, X, Y)\u001b[0m\n\u001b[1;32m    279\u001b[0m \u001b[0;34m\u001b[0m\u001b[0m\n\u001b[1;32m    280\u001b[0m         \u001b[0;31m# copy since this will contains the residuals (deflated) matrices\u001b[0m\u001b[0;34m\u001b[0m\u001b[0;34m\u001b[0m\u001b[0;34m\u001b[0m\u001b[0m\n\u001b[0;32m--> 281\u001b[0;31m         \u001b[0mcheck_consistent_length\u001b[0m\u001b[0;34m(\u001b[0m\u001b[0mX\u001b[0m\u001b[0;34m,\u001b[0m \u001b[0mY\u001b[0m\u001b[0;34m)\u001b[0m\u001b[0;34m\u001b[0m\u001b[0;34m\u001b[0m\u001b[0m\n\u001b[0m\u001b[1;32m    282\u001b[0m         X = self._validate_data(X, dtype=np.float64, copy=self.copy,\n\u001b[1;32m    283\u001b[0m                                 ensure_min_samples=2)\n",
      "\u001b[0;32m~/anaconda3/lib/python3.8/site-packages/sklearn/utils/validation.py\u001b[0m in \u001b[0;36mcheck_consistent_length\u001b[0;34m(*arrays)\u001b[0m\n\u001b[1;32m    253\u001b[0m     \u001b[0muniques\u001b[0m \u001b[0;34m=\u001b[0m \u001b[0mnp\u001b[0m\u001b[0;34m.\u001b[0m\u001b[0munique\u001b[0m\u001b[0;34m(\u001b[0m\u001b[0mlengths\u001b[0m\u001b[0;34m)\u001b[0m\u001b[0;34m\u001b[0m\u001b[0;34m\u001b[0m\u001b[0m\n\u001b[1;32m    254\u001b[0m     \u001b[0;32mif\u001b[0m \u001b[0mlen\u001b[0m\u001b[0;34m(\u001b[0m\u001b[0muniques\u001b[0m\u001b[0;34m)\u001b[0m \u001b[0;34m>\u001b[0m \u001b[0;36m1\u001b[0m\u001b[0;34m:\u001b[0m\u001b[0;34m\u001b[0m\u001b[0;34m\u001b[0m\u001b[0m\n\u001b[0;32m--> 255\u001b[0;31m         raise ValueError(\"Found input variables with inconsistent numbers of\"\n\u001b[0m\u001b[1;32m    256\u001b[0m                          \" samples: %r\" % [int(l) for l in lengths])\n\u001b[1;32m    257\u001b[0m \u001b[0;34m\u001b[0m\u001b[0m\n",
      "\u001b[0;31mValueError\u001b[0m: Found input variables with inconsistent numbers of samples: [131, 3]"
     ]
    }
   ],
   "source": [
    "labels=['YControl','YLabEtoh','YAcidYeast','YAcidEtoh']\n",
    "numPC=2\n",
    "PLSR2 = PLSRegression(n_components=numPC)\n",
    "scoresXY=PLSR2.fit_transform(X,Y)\n",
    "r2y=PLSR2.score(X, Y)\n",
    "print('r2y: ',r2y)\n",
    "for i in range(4):\n",
    "    plt.scatter(scoresXY[1][:,0],scoresXY[1][:,1],label=labels[0])\n",
    "    print(PLSR2.y_loadings_)\n",
    "\n",
    "scoresXY=PLSR2.fit_transform(X,YLabEtoh)\n",
    "r2y=PLSR2.score(X, YLabEtoh)\n",
    "print('r2y: ',r2y,' for YLabEtoh')\n",
    "plt.scatter(scoresXY[1][:,0],scoresXY[1][:,1],label=labels[1])\n",
    "\n",
    "scoresXY=PLSR2.fit_transform(X,YAcidYeast)\n",
    "r2y=PLSR2.score(X, YAcidYeast)\n",
    "print('r2y: ',r2y,' for YAcidYeast')\n",
    "plt.scatter(scoresXY[1][:,0],scoresXY[1][:,1],label=labels[2])\n",
    "\n",
    "scoresXY=PLSR2.fit_transform(X,YAcidEtoh)\n",
    "r2y=PLSR2.score(X, YAcidEtoh)\n",
    "print('r2y: ',r2y,' for YAcidEtoh')\n",
    "plt.scatter(scoresXY[1][:,0],scoresXY[1][:,1],label=labels[3])\n",
    "\n",
    "plt.legend()\n",
    "plt.show()"
   ]
  },
  {
   "cell_type": "code",
   "execution_count": 121,
   "metadata": {},
   "outputs": [
    {
     "data": {
      "text/plain": [
       "array([[ 0.18107685,  0.04617431],\n",
       "       [ 0.18443103,  0.02247773],\n",
       "       [ 0.08862726, -0.1876655 ],\n",
       "       [ 0.18508842, -0.01352441],\n",
       "       [-0.17876243,  0.0568962 ],\n",
       "       [ 0.18508191,  0.01364212],\n",
       "       [ 0.03076136, -0.21067898],\n",
       "       [-0.16090997,  0.10622523],\n",
       "       [ 0.18274523,  0.03642272],\n",
       "       [ 0.15761561,  0.11258872],\n",
       "       [-0.16813715, -0.09015652],\n",
       "       [ 0.18508633,  0.01356221],\n",
       "       [ 0.18246722,  0.0382275 ],\n",
       "       [ 0.17315083,  0.0765352 ],\n",
       "       [ 0.1562819 , -0.11502933],\n",
       "       [-0.14684358, -0.13049196],\n",
       "       [ 0.17386319, -0.07436139],\n",
       "       [ 0.18269029, -0.03678661],\n",
       "       [ 0.17811407, -0.05953329],\n",
       "       [ 0.13053088,  0.15176379],\n",
       "       [ 0.17518329, -0.07012978],\n",
       "       [ 0.15396133, -0.11910951],\n",
       "       [ 0.18432437, -0.02361019],\n",
       "       [ 0.15414846, -0.1187879 ],\n",
       "       [ 0.13740155, -0.1434904 ],\n",
       "       [ 0.18134   ,  0.04478296],\n",
       "       [-0.14144119, -0.13818388],\n",
       "       [ 0.18250177,  0.03800804],\n",
       "       [ 0.18491596,  0.01635788],\n",
       "       [ 0.18468985, -0.01945452],\n",
       "       [ 0.17237025, -0.0788386 ],\n",
       "       [-0.17610008, -0.06701373],\n",
       "       [ 0.17454865, -0.07219909],\n",
       "       [ 0.18395753, -0.02714246],\n",
       "       [ 0.18518026,  0.01173816],\n",
       "       [ 0.1848462 ,  0.01737267],\n",
       "       [ 0.1854422 ,  0.00299404],\n",
       "       [ 0.        ,  0.        ],\n",
       "       [-0.17930545,  0.05458174],\n",
       "       [-0.07856499,  0.19352188],\n",
       "       [ 0.16094319,  0.10615843],\n",
       "       [ 0.0646876 ,  0.20022153],\n",
       "       [ 0.06856485,  0.19850211],\n",
       "       [ 0.1846828 ,  0.01954305],\n",
       "       [ 0.14138439,  0.13826098],\n",
       "       [ 0.05251138,  0.20489577],\n",
       "       [ 0.06430527,  0.20038489],\n",
       "       [ 0.17805984,  0.05974818],\n",
       "       [ 0.07086587, -0.19742684],\n",
       "       [-0.17196864, -0.07999393],\n",
       "       [-0.18482302, -0.0176969 ],\n",
       "       [ 0.06596274,  0.19966872],\n",
       "       [ 0.06689001, -0.19925895],\n",
       "       [ 0.04008117,  0.20858937],\n",
       "       [ 0.14155368,  0.13803094],\n",
       "       [ 0.15487689,  0.1175239 ],\n",
       "       [-0.04312456,  0.20778235],\n",
       "       [-0.1582751 ,  0.1113543 ],\n",
       "       [-0.169889  ,  0.0856879 ],\n",
       "       [ 0.18308456, -0.03408647],\n",
       "       [ 0.07372216,  0.19603404],\n",
       "       [ 0.13987639, -0.14028156],\n",
       "       [ 0.13902289,  0.14140292],\n",
       "       [ 0.1307412 , -0.15152337],\n",
       "       [ 0.01576057,  0.21286537],\n",
       "       [-0.18404661, -0.02632889],\n",
       "       [ 0.11993336,  0.16295515],\n",
       "       [ 0.17454865, -0.07219909],\n",
       "       [-0.15791173,  0.11203678],\n",
       "       [ 0.03088703,  0.21065458],\n",
       "       [ 0.05850804,  0.20272855],\n",
       "       [-0.11194943,  0.1703262 ],\n",
       "       [-0.09760132,  0.18166096],\n",
       "       [ 0.15031762, -0.12513303],\n",
       "       [-0.0945336 , -0.18380107],\n",
       "       [ 0.16345213, -0.10094365],\n",
       "       [-0.16813785,  0.09015478],\n",
       "       [-0.18524591,  0.01027214],\n",
       "       [-0.0605646 ,  0.20192553],\n",
       "       [ 0.15733354, -0.11311103],\n",
       "       [ 0.17403769,  0.07381774],\n",
       "       [-0.00760799,  0.21345836],\n",
       "       [-0.07220737,  0.19678077],\n",
       "       [-0.14155368, -0.13803094],\n",
       "       [ 0.09259962,  0.18510287],\n",
       "       [-0.1223594 ,  0.16054402],\n",
       "       [ 0.17350132,  0.07547461],\n",
       "       [-0.12463523,  0.1582039 ],\n",
       "       [-0.14763966, -0.12929451],\n",
       "       [-0.04224058, -0.20802317],\n",
       "       [ 0.09919698, -0.18051041],\n",
       "       [-0.18496748, -0.01556584],\n",
       "       [-0.10784057, -0.17380842],\n",
       "       [ 0.18250177,  0.03800804],\n",
       "       [-0.01464021, -0.21297151],\n",
       "       [ 0.14823477, -0.12838778],\n",
       "       [ 0.17458678,  0.07207665],\n",
       "       [ 0.08978237, -0.1869355 ],\n",
       "       [ 0.08243156,  0.19137577],\n",
       "       [-0.06641052, -0.19947166],\n",
       "       [-0.01180645, -0.21320485],\n",
       "       [-0.17930545,  0.05458174],\n",
       "       [ 0.01480885, -0.21295603],\n",
       "       [ 0.14461883, -0.13374823],\n",
       "       [ 0.05337981, -0.20459778],\n",
       "       [-0.00582778, -0.21353269],\n",
       "       [-0.08258247, -0.19128942],\n",
       "       [-0.14673068, -0.13066038],\n",
       "       [-0.16800992, -0.09047071],\n",
       "       [-0.1718875 , -0.08022501],\n",
       "       [ 0.15631212, -0.11497483],\n",
       "       [ 0.00860338, -0.21340819],\n",
       "       [ 0.17246686,  0.07855775],\n",
       "       [-0.18038621, -0.04963189],\n",
       "       [-0.17841153, -0.05833941],\n",
       "       [-0.01469273, -0.21296671],\n",
       "       [-0.17945535,  0.05392408],\n",
       "       [ 0.11834374, -0.16449008],\n",
       "       [ 0.10103183, -0.17915496],\n",
       "       [ 0.13335748, -0.14846705],\n",
       "       [ 0.02030221, -0.21235426],\n",
       "       [ 0.10107699, -0.17912116],\n",
       "       [-0.04322046, -0.20775591],\n",
       "       [-0.17069314, -0.08354038],\n",
       "       [ 0.09634934, -0.18254566],\n",
       "       [ 0.09551628, -0.18312567],\n",
       "       [ 0.12542548, -0.15737299],\n",
       "       [-0.18261772,  0.03726166],\n",
       "       [-0.18370631, -0.02931338],\n",
       "       [-0.06903376, -0.19828634],\n",
       "       [ 0.14476474, -0.13353861]])"
      ]
     },
     "execution_count": 121,
     "metadata": {},
     "output_type": "execute_result"
    }
   ],
   "source": [
    "PLSR2.y_loadings_\n",
    "# scoresArray[1] for 2 PCs. [1][][0] for x scores. [1][][1] for y scores\n",
    "# plot 12 total scores/exp groups, 3 for each exp group\n",
    "for pairs in range(0,12):\n",
    "    if pairs%3==0:\n",
    "        c=c+1\n",
    "        plt.scatter(scoresXY[1][pairs][0],scoresArray[1][0][pairs][1], color=colors[c],label=labels[c])\n",
    "    else:\n",
    "        plt.scatter(scoresXY[1][pairs][1],scoresArray[1][0][pairs][1], color=colors[c])\n",
    "plt.title('PLSR Scores Fig 2A')\n",
    "plt.legend()\n",
    "plt.ylabel('PC 2')\n",
    "plt.xlabel('PC 1')\n",
    "plt.xlim(-11, 11)\n",
    "plt.ylim(-11, 11)\n",
    "plt.show()"
   ]
  },
  {
   "cell_type": "code",
   "execution_count": 92,
   "metadata": {},
   "outputs": [
    {
     "ename": "ValueError",
     "evalue": "Found input variables with inconsistent numbers of samples: [3, 12]",
     "output_type": "error",
     "traceback": [
      "\u001b[0;31m---------------------------------------------------------------------------\u001b[0m",
      "\u001b[0;31mValueError\u001b[0m                                Traceback (most recent call last)",
      "\u001b[0;32m<ipython-input-92-ecbc57541372>\u001b[0m in \u001b[0;36m<module>\u001b[0;34m\u001b[0m\n\u001b[1;32m      2\u001b[0m \u001b[0mscoresArray\u001b[0m\u001b[0;34m=\u001b[0m\u001b[0mnp\u001b[0m\u001b[0;34m.\u001b[0m\u001b[0mempty\u001b[0m\u001b[0;34m(\u001b[0m\u001b[0;34m[\u001b[0m\u001b[0mnumPC\u001b[0m\u001b[0;34m-\u001b[0m\u001b[0;36m1\u001b[0m\u001b[0;34m,\u001b[0m\u001b[0;36m2\u001b[0m\u001b[0;34m]\u001b[0m\u001b[0;34m,\u001b[0m\u001b[0mdtype\u001b[0m\u001b[0;34m=\u001b[0m\u001b[0mobject\u001b[0m\u001b[0;34m)\u001b[0m\u001b[0;34m\u001b[0m\u001b[0;34m\u001b[0m\u001b[0m\n\u001b[1;32m      3\u001b[0m \u001b[0mPLSR2\u001b[0m \u001b[0;34m=\u001b[0m \u001b[0mPLSRegression\u001b[0m\u001b[0;34m(\u001b[0m\u001b[0mn_components\u001b[0m\u001b[0;34m=\u001b[0m\u001b[0mnumPC\u001b[0m\u001b[0;34m)\u001b[0m\u001b[0;34m\u001b[0m\u001b[0;34m\u001b[0m\u001b[0m\n\u001b[0;32m----> 4\u001b[0;31m \u001b[0mscoresXY\u001b[0m\u001b[0;34m=\u001b[0m\u001b[0mPLSR2\u001b[0m\u001b[0;34m.\u001b[0m\u001b[0mfit_transform\u001b[0m\u001b[0;34m(\u001b[0m\u001b[0mX\u001b[0m\u001b[0;34m.\u001b[0m\u001b[0mT\u001b[0m\u001b[0;34m,\u001b[0m\u001b[0mY\u001b[0m\u001b[0;34m.\u001b[0m\u001b[0mT\u001b[0m\u001b[0;34m)\u001b[0m\u001b[0;34m\u001b[0m\u001b[0;34m\u001b[0m\u001b[0m\n\u001b[0m\u001b[1;32m      5\u001b[0m \u001b[0mscoresArray\u001b[0m\u001b[0;34m[\u001b[0m\u001b[0;36m0\u001b[0m\u001b[0;34m]\u001b[0m\u001b[0;34m[\u001b[0m\u001b[0;36m0\u001b[0m\u001b[0;34m]\u001b[0m\u001b[0;34m=\u001b[0m\u001b[0mscoresXY\u001b[0m\u001b[0;34m[\u001b[0m\u001b[0;36m0\u001b[0m\u001b[0;34m]\u001b[0m\u001b[0;34m\u001b[0m\u001b[0;34m\u001b[0m\u001b[0m\n\u001b[1;32m      6\u001b[0m \u001b[0mscoresArray\u001b[0m\u001b[0;34m[\u001b[0m\u001b[0;36m0\u001b[0m\u001b[0;34m]\u001b[0m\u001b[0;34m[\u001b[0m\u001b[0;36m1\u001b[0m\u001b[0;34m]\u001b[0m\u001b[0;34m=\u001b[0m\u001b[0mscoresXY\u001b[0m\u001b[0;34m[\u001b[0m\u001b[0;36m1\u001b[0m\u001b[0;34m]\u001b[0m\u001b[0;34m\u001b[0m\u001b[0;34m\u001b[0m\u001b[0m\n",
      "\u001b[0;32m~/anaconda3/lib/python3.8/site-packages/sklearn/cross_decomposition/_pls.py\u001b[0m in \u001b[0;36mfit_transform\u001b[0;34m(self, X, y)\u001b[0m\n\u001b[1;32m    517\u001b[0m         \u001b[0mx_scores\u001b[0m \u001b[0;32mif\u001b[0m \u001b[0mY\u001b[0m \u001b[0;32mis\u001b[0m \u001b[0;32mnot\u001b[0m \u001b[0mgiven\u001b[0m\u001b[0;34m,\u001b[0m \u001b[0;34m(\u001b[0m\u001b[0mx_scores\u001b[0m\u001b[0;34m,\u001b[0m \u001b[0my_scores\u001b[0m\u001b[0;34m)\u001b[0m \u001b[0motherwise\u001b[0m\u001b[0;34m.\u001b[0m\u001b[0;34m\u001b[0m\u001b[0;34m\u001b[0m\u001b[0m\n\u001b[1;32m    518\u001b[0m         \"\"\"\n\u001b[0;32m--> 519\u001b[0;31m         \u001b[0;32mreturn\u001b[0m \u001b[0mself\u001b[0m\u001b[0;34m.\u001b[0m\u001b[0mfit\u001b[0m\u001b[0;34m(\u001b[0m\u001b[0mX\u001b[0m\u001b[0;34m,\u001b[0m \u001b[0my\u001b[0m\u001b[0;34m)\u001b[0m\u001b[0;34m.\u001b[0m\u001b[0mtransform\u001b[0m\u001b[0;34m(\u001b[0m\u001b[0mX\u001b[0m\u001b[0;34m,\u001b[0m \u001b[0my\u001b[0m\u001b[0;34m)\u001b[0m\u001b[0;34m\u001b[0m\u001b[0;34m\u001b[0m\u001b[0m\n\u001b[0m\u001b[1;32m    520\u001b[0m \u001b[0;34m\u001b[0m\u001b[0m\n\u001b[1;32m    521\u001b[0m     \u001b[0;32mdef\u001b[0m \u001b[0m_more_tags\u001b[0m\u001b[0;34m(\u001b[0m\u001b[0mself\u001b[0m\u001b[0;34m)\u001b[0m\u001b[0;34m:\u001b[0m\u001b[0;34m\u001b[0m\u001b[0;34m\u001b[0m\u001b[0m\n",
      "\u001b[0;32m~/anaconda3/lib/python3.8/site-packages/sklearn/cross_decomposition/_pls.py\u001b[0m in \u001b[0;36mfit\u001b[0;34m(self, X, Y)\u001b[0m\n\u001b[1;32m    279\u001b[0m \u001b[0;34m\u001b[0m\u001b[0m\n\u001b[1;32m    280\u001b[0m         \u001b[0;31m# copy since this will contains the residuals (deflated) matrices\u001b[0m\u001b[0;34m\u001b[0m\u001b[0;34m\u001b[0m\u001b[0;34m\u001b[0m\u001b[0m\n\u001b[0;32m--> 281\u001b[0;31m         \u001b[0mcheck_consistent_length\u001b[0m\u001b[0;34m(\u001b[0m\u001b[0mX\u001b[0m\u001b[0;34m,\u001b[0m \u001b[0mY\u001b[0m\u001b[0;34m)\u001b[0m\u001b[0;34m\u001b[0m\u001b[0;34m\u001b[0m\u001b[0m\n\u001b[0m\u001b[1;32m    282\u001b[0m         X = self._validate_data(X, dtype=np.float64, copy=self.copy,\n\u001b[1;32m    283\u001b[0m                                 ensure_min_samples=2)\n",
      "\u001b[0;32m~/anaconda3/lib/python3.8/site-packages/sklearn/utils/validation.py\u001b[0m in \u001b[0;36mcheck_consistent_length\u001b[0;34m(*arrays)\u001b[0m\n\u001b[1;32m    253\u001b[0m     \u001b[0muniques\u001b[0m \u001b[0;34m=\u001b[0m \u001b[0mnp\u001b[0m\u001b[0;34m.\u001b[0m\u001b[0munique\u001b[0m\u001b[0;34m(\u001b[0m\u001b[0mlengths\u001b[0m\u001b[0;34m)\u001b[0m\u001b[0;34m\u001b[0m\u001b[0;34m\u001b[0m\u001b[0m\n\u001b[1;32m    254\u001b[0m     \u001b[0;32mif\u001b[0m \u001b[0mlen\u001b[0m\u001b[0;34m(\u001b[0m\u001b[0muniques\u001b[0m\u001b[0;34m)\u001b[0m \u001b[0;34m>\u001b[0m \u001b[0;36m1\u001b[0m\u001b[0;34m:\u001b[0m\u001b[0;34m\u001b[0m\u001b[0;34m\u001b[0m\u001b[0m\n\u001b[0;32m--> 255\u001b[0;31m         raise ValueError(\"Found input variables with inconsistent numbers of\"\n\u001b[0m\u001b[1;32m    256\u001b[0m                          \" samples: %r\" % [int(l) for l in lengths])\n\u001b[1;32m    257\u001b[0m \u001b[0;34m\u001b[0m\u001b[0m\n",
      "\u001b[0;31mValueError\u001b[0m: Found input variables with inconsistent numbers of samples: [3, 12]"
     ]
    }
   ],
   "source": [
    "numPC=2\n",
    "scoresArray=np.empty([numPC-1,2],dtype=object)\n",
    "PLSR2 = PLSRegression(n_components=numPC)\n",
    "scoresXY=PLSR2.fit_transform(X,Y)\n",
    "scoresArray[0][0]=scoresXY[0]\n",
    "scoresArray[0][1]=scoresXY[1]\n",
    "\n",
    "r2y=PLSR2.score(X, Y)\n",
    "print('r2y: ',r2y,' for number PCs=',numPC)\n",
    "\n",
    "plt.scatter(scoresXY[0],scoresXY[1])"
   ]
  },
  {
   "cell_type": "code",
   "execution_count": 89,
   "metadata": {},
   "outputs": [
    {
     "data": {
      "text/plain": [
       "(131, 2)"
      ]
     },
     "execution_count": 89,
     "metadata": {},
     "output_type": "execute_result"
    }
   ],
   "source": [
    "scoresXY[1].shape"
   ]
  },
  {
   "cell_type": "code",
   "execution_count": 91,
   "metadata": {},
   "outputs": [
    {
     "data": {
      "text/plain": [
       "(12, 2)"
      ]
     },
     "execution_count": 91,
     "metadata": {},
     "output_type": "execute_result"
    }
   ],
   "source": [
    "PLSR2.y_loadings_.shape"
   ]
  },
  {
   "cell_type": "code",
   "execution_count": null,
   "metadata": {},
   "outputs": [],
   "source": []
  }
 ],
 "metadata": {
  "kernelspec": {
   "display_name": "Python 3",
   "language": "python",
   "name": "python3"
  },
  "language_info": {
   "codemirror_mode": {
    "name": "ipython",
    "version": 3
   },
   "file_extension": ".py",
   "mimetype": "text/x-python",
   "name": "python",
   "nbconvert_exporter": "python",
   "pygments_lexer": "ipython3",
   "version": "3.8.5"
  }
 },
 "nbformat": 4,
 "nbformat_minor": 4
}
